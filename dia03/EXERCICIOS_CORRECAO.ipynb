{
 "cells": [
  {
   "cell_type": "code",
   "execution_count": 0,
   "metadata": {
    "application/vnd.databricks.v1+cell": {
     "cellMetadata": {
      "byteLimit": 2048000,
      "rowLimit": 10000
     },
     "inputWidgets": {},
     "nuid": "620e4ecc-692e-4048-ab66-efa0ecef4c34",
     "showTitle": false,
     "tableResultSettingsMap": {},
     "title": ""
    }
   },
   "outputs": [],
   "source": [
    "/* \n",
    "1. Qual pedido com maior valor de frete? E o menor?\n",
    "2. Qual vendedor tem mais pedidos?\n",
    "3. Qual vendedor tem mais itens vendidos? E o com menos?\n",
    "4. Qual dia tivemos mais pedidos?\n",
    "5. Quantos vendedores são do estado de São Paulo?\n",
    "6. Quantos vendedores são de Presidente Prudente?\n",
    "7. Quantos clientes são do estado do Rio de Janeiro?\n",
    "8. Quantos produtos são de construção?\n",
    "9. Qual o valor médio de um pedido? E do frete?\n",
    "10. Em média os pedidos são de quantas parcelas de cartão? E o valor médio por parcela?\n",
    "11. Quanto tempo em média demora para um pedido chegar depois de aprovado?\n",
    "12. Qual estado tem mais vendedores?\n",
    "13. Qual cidade tem mais clientes?\n",
    "14. Qual categoria tem mais itens?\n",
    "15. Qual categoria tem maior peso médio de produto?\n",
    "16. Qual a série histórica de pedidos por dia? E receita?\n",
    "17. Qual produto é o campeão de vendas? Em receita? Em quantidade? */"
   ]
  },
  {
   "cell_type": "code",
   "execution_count": 0,
   "metadata": {
    "application/vnd.databricks.v1+cell": {
     "cellMetadata": {
      "byteLimit": 2048000,
      "rowLimit": 10000
     },
     "inputWidgets": {},
     "nuid": "6ebc0aa2-0626-40ca-bd48-edb23364383f",
     "showTitle": false,
     "tableResultSettingsMap": {},
     "title": ""
    }
   },
   "outputs": [],
   "source": [
    "/* 1. Qual pedido com maior valor de frete? E o menor? */\n",
    "SELECT idPedido,\n",
    "       sum(vlFrete) AS totalFrete\n",
    "FROM silver.olist.item_pedido\n",
    "GROUP BY idPedido\n",
    "ORDER BY totalFrete DESC\n",
    "/* Para ver os menores fretes substitua DESC por ASC */"
   ]
  },
  {
   "cell_type": "code",
   "execution_count": 0,
   "metadata": {
    "application/vnd.databricks.v1+cell": {
     "cellMetadata": {
      "byteLimit": 2048000,
      "rowLimit": 10000
     },
     "inputWidgets": {},
     "nuid": "a5aa822e-20b8-4833-9540-3501a1d9fc63",
     "showTitle": false,
     "tableResultSettingsMap": {},
     "title": ""
    }
   },
   "outputs": [],
   "source": [
    "/* 2. Qual vendedor tem mais pedidos? */\n",
    "\n",
    "SELECT idVendedor,\n",
    "       count(DISTINCT idPedido) AS qtPedido\n",
    "FROM silver.olist.item_pedido\n",
    "GROUP BY idVendedor\n",
    "ORDER BY qtPedido DESC\n",
    "LIMIT 1\n",
    "\n"
   ]
  },
  {
   "cell_type": "code",
   "execution_count": 0,
   "metadata": {
    "application/vnd.databricks.v1+cell": {
     "cellMetadata": {
      "byteLimit": 2048000,
      "rowLimit": 10000
     },
     "inputWidgets": {},
     "nuid": "a7e7537a-966e-450f-9072-9935c3400c9b",
     "showTitle": false,
     "tableResultSettingsMap": {},
     "title": ""
    }
   },
   "outputs": [],
   "source": [
    "/* 3. Qual vendedor tem mais itens vendidos? E o com menos? */\n",
    "SELECT idVendedor,\n",
    "       count(idProduto) AS qtItens\n",
    "FROM silver.olist.item_pedido\n",
    "GROUP BY idVendedor\n",
    "ORDER BY qtItens DESC"
   ]
  },
  {
   "cell_type": "code",
   "execution_count": 0,
   "metadata": {
    "application/vnd.databricks.v1+cell": {
     "cellMetadata": {
      "byteLimit": 2048000,
      "rowLimit": 10000
     },
     "inputWidgets": {},
     "nuid": "5ecf6102-9a40-4147-8cf6-b1294aa2ff86",
     "showTitle": false,
     "tableResultSettingsMap": {},
     "title": ""
    }
   },
   "outputs": [],
   "source": [
    "/* 4. Qual dia tivemos mais pedidos? */\n",
    "SELECT date(dtPedido) AS diaPedido,\n",
    "       count(DISTINCT idPedido) AS qtPedido\n",
    "FROM silver.olist.pedido\n",
    "GROUP BY diaPedido\n",
    "ORDER BY qtPedido DESC\n",
    "/* Também é possível utilizar \n",
    "GROUP BY 1\n",
    "ORDER BY 2 DESC */\n",
    "/* Funciona para Apache Spark e para outros */"
   ]
  },
  {
   "cell_type": "code",
   "execution_count": 0,
   "metadata": {
    "application/vnd.databricks.v1+cell": {
     "cellMetadata": {
      "byteLimit": 2048000,
      "rowLimit": 10000
     },
     "inputWidgets": {},
     "nuid": "6acc925e-a1a0-4364-b606-687c8cea7b35",
     "showTitle": false,
     "tableResultSettingsMap": {},
     "title": ""
    }
   },
   "outputs": [],
   "source": [
    "/* 5. Quantos vendedores são do estado de São Paulo? */\n",
    "SELECT count(DISTINCT idVendedor) AS qtVendedor\n",
    "FROM silver.olist.vendedor\n",
    "WHERE descUF = 'SP'\n",
    "/* Nesta correção ele não utilizou o GROUP BY porque a consulta era para um estado específico */"
   ]
  },
  {
   "cell_type": "code",
   "execution_count": 0,
   "metadata": {
    "application/vnd.databricks.v1+cell": {
     "cellMetadata": {
      "byteLimit": 2048000,
      "rowLimit": 10000
     },
     "inputWidgets": {},
     "nuid": "8c6316eb-233e-4c88-9f56-fc7df637dbcd",
     "showTitle": false,
     "tableResultSettingsMap": {},
     "title": ""
    }
   },
   "outputs": [],
   "source": [
    "/* 6. Quantos vendedores são de Presidente Prudente? */\n",
    "SELECT count(DISTINCT idVendedor) AS qtVendedor\n",
    "FROM silver.olist.vendedor\n",
    "WHERE descCidade = 'presidente prudente'"
   ]
  },
  {
   "cell_type": "code",
   "execution_count": 0,
   "metadata": {
    "application/vnd.databricks.v1+cell": {
     "cellMetadata": {
      "byteLimit": 2048000,
      "rowLimit": 10000
     },
     "inputWidgets": {},
     "nuid": "9d708ebd-2027-410b-a4a3-86b1b9214eb2",
     "showTitle": false,
     "tableResultSettingsMap": {},
     "title": ""
    }
   },
   "outputs": [],
   "source": [
    "/* 7. Quantos clientes são do estado do Rio de Janeiro? */\n",
    "SELECT count(DISTINCT idCliente) AS qtCliente\n",
    "FROM silver.olist.cliente\n",
    "WHERE descUF = 'RJ'"
   ]
  },
  {
   "cell_type": "code",
   "execution_count": 0,
   "metadata": {
    "application/vnd.databricks.v1+cell": {
     "cellMetadata": {
      "byteLimit": 2048000,
      "rowLimit": 10000
     },
     "inputWidgets": {},
     "nuid": "09584077-211b-4fa9-90c2-0614a12472ff",
     "showTitle": false,
     "tableResultSettingsMap": {},
     "title": ""
    }
   },
   "outputs": [],
   "source": [
    "/* 8. Quantos produtos são de construção? */\n",
    "SELECT count(DISTINCT idProduto) AS qtProduto\n",
    "FROM silver.olist.produto\n",
    "WHERE descCategoria LIKE '%construcao%'"
   ]
  },
  {
   "cell_type": "code",
   "execution_count": 0,
   "metadata": {
    "application/vnd.databricks.v1+cell": {
     "cellMetadata": {
      "byteLimit": 2048000,
      "rowLimit": 10000
     },
     "inputWidgets": {},
     "nuid": "cb7269e7-af4c-468b-8551-34d96c699f60",
     "showTitle": false,
     "tableResultSettingsMap": {},
     "title": ""
    }
   },
   "outputs": [],
   "source": [
    "/* 9. Qual o valor médio de um pedido? E do frete? */\n",
    "SELECT sum(vlPreco) / count(DISTINCT idPedido) AS vlMediaPedido, -- valor médio por pedido\n",
    "       sum(vlFrete) / count(DISTINCT idPedido) AS vlMediaFretePedido, -- preço médio frete por pedido\n",
    "\n",
    "       avg(vlPreco) AS avgPedido, -- valor médio por item (incorreto)\n",
    "       avg(vlFrete) AS avgFrete   -- preco médio frete por item (incorreto)\n",
    "\n",
    "FROM silver.olist.item_pedido"
   ]
  },
  {
   "cell_type": "code",
   "execution_count": 0,
   "metadata": {
    "application/vnd.databricks.v1+cell": {
     "cellMetadata": {
      "byteLimit": 2048000,
      "rowLimit": 10000
     },
     "inputWidgets": {},
     "nuid": "c5d32e34-25b2-489b-b96f-1d46036eed44",
     "showTitle": false,
     "tableResultSettingsMap": {},
     "title": ""
    }
   },
   "outputs": [],
   "source": [
    "/* 10. Em média os pedidos são de quantas parcelas de cartão? E o valor médio por parcela? */\n",
    "\n",
    "SELECT avg(nrParcelas) as avgQtParcelas,\n",
    "       avg(vlPagamento / nrParcelas) AS avgValorParcela\n",
    "FROM silver.olist.pagamento_pedido\n",
    "WHERE descTipoPagamento = 'credit_card' AND nrParcelas > 0\n",
    "/* Na correção não é contemplado o erro de divisão por zero que foi considerado nesta correção. */"
   ]
  },
  {
   "cell_type": "code",
   "execution_count": 0,
   "metadata": {
    "application/vnd.databricks.v1+cell": {
     "cellMetadata": {
      "byteLimit": 2048000,
      "rowLimit": 10000
     },
     "inputWidgets": {},
     "nuid": "82562eee-2218-465f-ad0e-9ab8cc21e625",
     "showTitle": false,
     "tableResultSettingsMap": {},
     "title": ""
    }
   },
   "outputs": [],
   "source": [
    "/* 11. Quanto tempo em média demora para um pedido chegar depois de aprovado? */\n",
    "SELECT DISTINCT avg(datediff(dtEntregue, dtAprovado)) AS qtDias\n",
    "FROM silver.olist.pedido\n",
    "WHERE descSituacao IN ('approved',\n",
    "                       'shipped',\n",
    "                       'delivered',\n",
    "                       'invoiced')"
   ]
  },
  {
   "cell_type": "code",
   "execution_count": 0,
   "metadata": {
    "application/vnd.databricks.v1+cell": {
     "cellMetadata": {
      "byteLimit": 2048000,
      "rowLimit": 10000
     },
     "inputWidgets": {},
     "nuid": "3ca80f9c-8723-4301-a683-099e6ba94482",
     "showTitle": false,
     "tableResultSettingsMap": {},
     "title": ""
    }
   },
   "outputs": [],
   "source": [
    "/* 12. Qual estado tem mais vendedores? */\n",
    "SELECT descUF,\n",
    "       count(DISTINCT idVendedor) AS qtVendedor\n",
    "FROM silver.olist.vendedor\n",
    "GROUP BY descUF\n",
    "ORDER BY qtVendedor DESC"
   ]
  },
  {
   "cell_type": "code",
   "execution_count": 0,
   "metadata": {
    "application/vnd.databricks.v1+cell": {
     "cellMetadata": {
      "byteLimit": 2048000,
      "rowLimit": 10000
     },
     "inputWidgets": {},
     "nuid": "8df6386b-3459-41d8-ae5d-a9f024cc8d67",
     "showTitle": false,
     "tableResultSettingsMap": {},
     "title": ""
    }
   },
   "outputs": [],
   "source": [
    "/* 13. Qual cidade tem mais clientes? */\n",
    "SELECT descCidade,\n",
    "       count(DISTINCT idCliente) AS qtCliente, -- clientes que podem não ser únicos\n",
    "       count(DISTINCT idClienteUnico) AS qtClienteDistinto -- clientes que podem ser únicos\n",
    "FROM silver.olist.cliente\n",
    "GROUP BY descCidade\n",
    "ORDER BY qtCliente DESC"
   ]
  },
  {
   "cell_type": "code",
   "execution_count": 0,
   "metadata": {
    "application/vnd.databricks.v1+cell": {
     "cellMetadata": {
      "byteLimit": 2048000,
      "rowLimit": 10000
     },
     "inputWidgets": {},
     "nuid": "d2918008-e000-4f0d-8082-7248cdea81e9",
     "showTitle": false,
     "tableResultSettingsMap": {},
     "title": ""
    }
   },
   "outputs": [],
   "source": [
    "/* 14. Qual categoria tem mais itens? */\n",
    "SELECT descCategoria,\n",
    "       count(DISTINCT idProduto) AS qtProduto\n",
    "FROM silver.olist.produto\n",
    "GROUP BY descCategoria\n",
    "ORDER BY qtProduto DESC"
   ]
  },
  {
   "cell_type": "code",
   "execution_count": 0,
   "metadata": {
    "application/vnd.databricks.v1+cell": {
     "cellMetadata": {
      "byteLimit": 2048000,
      "rowLimit": 10000
     },
     "inputWidgets": {},
     "nuid": "2bc17350-5d36-4e3a-ba26-46f923ade8ad",
     "showTitle": false,
     "tableResultSettingsMap": {},
     "title": ""
    }
   },
   "outputs": [],
   "source": [
    "/* 15. Qual categoria tem maior peso médio de produto? */\n",
    "SELECT descCategoria,\n",
    "       avg(vlPesoGramas) AS pesoMedio,\n",
    "       count(DISTINCT idProduto) AS qtProduto\n",
    "FROM silver.olist.produto\n",
    "GROUP BY descCategoria\n",
    "ORDER BY pesoMedio DESC"
   ]
  },
  {
   "cell_type": "code",
   "execution_count": 0,
   "metadata": {
    "application/vnd.databricks.v1+cell": {
     "cellMetadata": {
      "byteLimit": 2048000,
      "rowLimit": 10000
     },
     "inputWidgets": {},
     "nuid": "0622a2de-aec0-42e1-987c-19b8869d44cb",
     "showTitle": false,
     "tableResultSettingsMap": {},
     "title": ""
    }
   },
   "outputs": [
    {
     "output_type": "display_data",
     "data": {
      "text/plain": [
       "Databricks visualization. Run in Databricks to view."
      ]
     },
     "metadata": {
      "application/vnd.databricks.v1.subcommand+json": {
       "baseErrorDetails": null,
       "bindings": {},
       "collapsed": false,
       "command": "%sql WITH q AS (SELECT date(dtPedido) AS diaPedido,\n       count(DISTINCT idPedido) AS qtPedido \nFROM silver.olist.pedido \nGROUP BY diaPedido\nORDER BY diaPedido) SELECT `diaPedido`,SUM(`qtPedido`) `column_ad6de52f111` FROM q GROUP BY `diaPedido`",
       "commandTitle": "Série Histórica",
       "commandType": "auto",
       "commandVersion": 0,
       "commentThread": [],
       "commentsVisible": false,
       "contentSha256Hex": null,
       "customPlotOptions": {
        "redashChart": [
         {
          "key": "type",
          "value": "CHART"
         },
         {
          "key": "options",
          "value": {
           "alignYAxesAtZero": true,
           "coefficient": 1,
           "columnConfigurationMap": {
            "x": {
             "column": "diaPedido",
             "id": "column_ad6de52f110"
            },
            "y": [
             {
              "column": "qtPedido",
              "id": "column_ad6de52f111",
              "transform": "SUM"
             }
            ]
           },
           "dateTimeFormat": "DD/MM/YYYY HH:mm",
           "direction": {
            "type": "counterclockwise"
           },
           "error_y": {
            "type": "data",
            "visible": true
           },
           "globalSeriesType": "line",
           "isAggregationOn": true,
           "legend": {
            "traceorder": "normal"
           },
           "missingValuesAsZero": true,
           "numberFormat": "0,0.[00000]",
           "percentFormat": "0[.]00%",
           "series": {
            "error_y": {
             "type": "data",
             "visible": true
            },
            "stacking": null
           },
           "seriesOptions": {
            "column_ad6de52f111": {
             "color": "#8BCAE7",
             "name": "qtPedido",
             "yAxis": 0
            }
           },
           "showDataLabels": false,
           "sizemode": "diameter",
           "sortX": true,
           "sortY": true,
           "swappedAxes": false,
           "textFormat": "",
           "useAggregationsUi": true,
           "valuesOptions": {},
           "version": 2,
           "xAxis": {
            "labels": {
             "enabled": true
            },
            "title": {
             "text": "Data"
            },
            "type": "-"
           },
           "yAxis": [
            {
             "title": {
              "text": "Quantidade Pedidos"
             },
             "type": "-"
            },
            {
             "opposite": true,
             "type": "-"
            }
           ]
          }
         }
        ]
       },
       "datasetPreviewNameToCmdIdMap": {},
       "diffDeletes": [],
       "diffInserts": [],
       "displayType": "redashChart",
       "error": null,
       "errorDetails": null,
       "errorSummary": null,
       "errorTraceType": null,
       "finishTime": 0,
       "globalVars": {},
       "guid": "",
       "height": "auto",
       "hideCommandCode": false,
       "hideCommandResult": false,
       "iPythonMetadata": null,
       "inputWidgets": {},
       "isLockedInExamMode": false,
       "latestUser": "a user",
       "latestUserId": null,
       "listResultMetadata": null,
       "metadata": {},
       "nuid": "ff8baa94-3318-4c55-aa8b-958341c308b0",
       "origId": 0,
       "parentHierarchy": [],
       "pivotAggregation": null,
       "pivotColumns": null,
       "position": 18.0,
       "resultDbfsErrorMessage": null,
       "resultDbfsStatus": "INLINED_IN_TREE",
       "results": null,
       "showCommandTitle": false,
       "startTime": 0,
       "state": "input",
       "streamStates": {},
       "subcommandOptions": {
        "queryPlan": {
         "groups": [
          {
           "column": "diaPedido",
           "type": "column"
          }
         ],
         "selects": [
          {
           "column": "diaPedido",
           "type": "column"
          },
          {
           "alias": "column_ad6de52f111",
           "args": [
            {
             "column": "qtPedido",
             "type": "column"
            }
           ],
           "function": "SUM",
           "type": "function"
          }
         ]
        }
       },
       "submitTime": 0,
       "subtype": "tableResultSubCmd.visualization",
       "tableResultIndex": 0,
       "tableResultSettingsMap": {},
       "useConsistentColors": false,
       "version": "CommandV1",
       "width": "auto",
       "workflows": null,
       "xColumns": null,
       "yColumns": null
      }
     },
     "output_type": "display_data"
    }
   ],
   "source": [
    "/* 16. Qual a série histórica de pedidos por dia? E receita? */\n",
    "SELECT date(dtPedido) AS diaPedido,\n",
    "       count(DISTINCT idPedido) AS qtPedido \n",
    "FROM silver.olist.pedido \n",
    "GROUP BY diaPedido\n",
    "ORDER BY diaPedido"
   ]
  },
  {
   "cell_type": "code",
   "execution_count": 0,
   "metadata": {
    "application/vnd.databricks.v1+cell": {
     "cellMetadata": {
      "byteLimit": 2048000,
      "rowLimit": 10000
     },
     "inputWidgets": {},
     "nuid": "be303dc9-4067-4bce-adbf-81776f3b430e",
     "showTitle": false,
     "tableResultSettingsMap": {},
     "title": ""
    }
   },
   "outputs": [],
   "source": [
    "/* 17. Qual produto é o campeão de vendas? Em receita? Em quantidade? */\n",
    "/* Quantidade Venda */\n",
    "SELECT idProduto,\n",
    "       count(*) AS qtVenda,\n",
    "       sum(vlPreco) AS vlReceita\n",
    "\n",
    "FROM silver.olist.item_pedido\n",
    "GROUP BY idProduto\n",
    "ORDER BY qtVenda DESC"
   ]
  },
  {
   "cell_type": "code",
   "execution_count": 0,
   "metadata": {
    "application/vnd.databricks.v1+cell": {
     "cellMetadata": {
      "byteLimit": 2048000,
      "rowLimit": 10000
     },
     "inputWidgets": {},
     "nuid": "dc5b9d5a-00a5-4013-9ae4-8849322bb19d",
     "showTitle": false,
     "tableResultSettingsMap": {},
     "title": ""
    }
   },
   "outputs": [],
   "source": [
    "/* 17. Qual produto é o campeão de vendas? Em receita? Em quantidade? */\n",
    "/* Receita */\n",
    "SELECT idProduto,\n",
    "       count(*) AS qtVenda,\n",
    "       sum(vlPreco) AS vlReceita\n",
    "\n",
    "FROM silver.olist.item_pedido\n",
    "GROUP BY idProduto\n",
    "ORDER BY vlReceita DESC"
   ]
  },
  {
   "cell_type": "code",
   "execution_count": 0,
   "metadata": {
    "application/vnd.databricks.v1+cell": {
     "cellMetadata": {},
     "inputWidgets": {},
     "nuid": "6e9862e5-496a-4cb7-8fad-2e34db142282",
     "showTitle": false,
     "tableResultSettingsMap": {},
     "title": ""
    }
   },
   "outputs": [],
   "source": []
  }
 ],
 "metadata": {
  "application/vnd.databricks.v1+notebook": {
   "computePreferences": null,
   "dashboards": [],
   "environmentMetadata": {
    "base_environment": "",
    "client": "1"
   },
   "language": "sql",
   "notebookMetadata": {
    "pythonIndentUnit": 4
   },
   "notebookName": "EXERCICIOS_CORRECAO",
   "widgets": {}
  },
  "language_info": {
   "name": "sql"
  }
 },
 "nbformat": 4,
 "nbformat_minor": 0
}
